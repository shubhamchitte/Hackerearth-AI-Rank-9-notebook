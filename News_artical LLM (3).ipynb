{
 "cells": [
  {
   "cell_type": "markdown",
   "id": "f2861a89",
   "metadata": {},
   "source": [
    "# Competition Notebook\n",
    "\n",
    "**Author**: Shubham Chitte  \n",
    "**Date**: 2024-10-6  \n",
    "**This notebook achived rank 9 in the AI competition**\n",
    "\n",
    "---\n"
   ]
  },
  {
   "cell_type": "markdown",
   "id": "f5290084-efba-4e96-845a-c3ae9b1e80b1",
   "metadata": {},
   "source": [
    "# Section 1: Data loading and exploration"
   ]
  },
  {
   "cell_type": "code",
   "execution_count": 390,
   "id": "e14762e3-dde8-4b7b-b6b6-d303885a4655",
   "metadata": {},
   "outputs": [],
   "source": [
    "import os\n",
    "import pandas as pd\n",
    "os.chdir(r'E:\\SHUBHAM\\RA one drive\\OneDrive - Indian School of Business\\Distractor\\News model\\dataset')"
   ]
  },
  {
   "cell_type": "code",
   "execution_count": 392,
   "id": "3d59397f-725a-4f29-9796-308f28044ea6",
   "metadata": {},
   "outputs": [
    {
     "data": {
      "text/html": [
       "<div>\n",
       "<style scoped>\n",
       "    .dataframe tbody tr th:only-of-type {\n",
       "        vertical-align: middle;\n",
       "    }\n",
       "\n",
       "    .dataframe tbody tr th {\n",
       "        vertical-align: top;\n",
       "    }\n",
       "\n",
       "    .dataframe thead th {\n",
       "        text-align: right;\n",
       "    }\n",
       "</style>\n",
       "<table border=\"1\" class=\"dataframe\">\n",
       "  <thead>\n",
       "    <tr style=\"text-align: right;\">\n",
       "      <th></th>\n",
       "      <th>text</th>\n",
       "      <th>target</th>\n",
       "      <th>Word Count</th>\n",
       "    </tr>\n",
       "  </thead>\n",
       "  <tbody>\n",
       "    <tr>\n",
       "      <th>0</th>\n",
       "      <td>python courses python courses, python exercise...</td>\n",
       "      <td>academic interests</td>\n",
       "      <td>125</td>\n",
       "    </tr>\n",
       "    <tr>\n",
       "      <th>1</th>\n",
       "      <td>the learning point open digital education. a r...</td>\n",
       "      <td>academic interests</td>\n",
       "      <td>147</td>\n",
       "    </tr>\n",
       "    <tr>\n",
       "      <th>2</th>\n",
       "      <td>tech news, latest technology, mobiles, laptops...</td>\n",
       "      <td>academic interests</td>\n",
       "      <td>143</td>\n",
       "    </tr>\n",
       "    <tr>\n",
       "      <th>3</th>\n",
       "      <td>the best it certification materials in usa | k...</td>\n",
       "      <td>academic interests</td>\n",
       "      <td>364</td>\n",
       "    </tr>\n",
       "    <tr>\n",
       "      <th>4</th>\n",
       "      <td>bioland scientific, for your research needs bi...</td>\n",
       "      <td>academic interests</td>\n",
       "      <td>176</td>\n",
       "    </tr>\n",
       "    <tr>\n",
       "      <th>...</th>\n",
       "      <td>...</td>\n",
       "      <td>...</td>\n",
       "      <td>...</td>\n",
       "    </tr>\n",
       "    <tr>\n",
       "      <th>697522</th>\n",
       "      <td>so while it might be hard to look at at times,...</td>\n",
       "      <td>video gaming</td>\n",
       "      <td>144</td>\n",
       "    </tr>\n",
       "    <tr>\n",
       "      <th>697523</th>\n",
       "      <td>thatâ¦ You know, let's do a musical. We'll ju...</td>\n",
       "      <td>video gaming</td>\n",
       "      <td>130</td>\n",
       "    </tr>\n",
       "    <tr>\n",
       "      <th>697524</th>\n",
       "      <td>PlayStation or Xbox, don't worry about being l...</td>\n",
       "      <td>video gaming</td>\n",
       "      <td>124</td>\n",
       "    </tr>\n",
       "    <tr>\n",
       "      <th>697525</th>\n",
       "      <td>Elden Ring. And so, while rumors of a Sekiro 2...</td>\n",
       "      <td>video gaming</td>\n",
       "      <td>144</td>\n",
       "    </tr>\n",
       "    <tr>\n",
       "      <th>697526</th>\n",
       "      <td>Davidson, IDW executive vice president in the ...</td>\n",
       "      <td>video gaming</td>\n",
       "      <td>100</td>\n",
       "    </tr>\n",
       "  </tbody>\n",
       "</table>\n",
       "<p>697527 rows × 3 columns</p>\n",
       "</div>"
      ],
      "text/plain": [
       "                                                     text              target  \\\n",
       "0       python courses python courses, python exercise...  academic interests   \n",
       "1       the learning point open digital education. a r...  academic interests   \n",
       "2       tech news, latest technology, mobiles, laptops...  academic interests   \n",
       "3       the best it certification materials in usa | k...  academic interests   \n",
       "4       bioland scientific, for your research needs bi...  academic interests   \n",
       "...                                                   ...                 ...   \n",
       "697522  so while it might be hard to look at at times,...        video gaming   \n",
       "697523  thatâ¦ You know, let's do a musical. We'll ju...        video gaming   \n",
       "697524  PlayStation or Xbox, don't worry about being l...        video gaming   \n",
       "697525  Elden Ring. And so, while rumors of a Sekiro 2...        video gaming   \n",
       "697526  Davidson, IDW executive vice president in the ...        video gaming   \n",
       "\n",
       "        Word Count  \n",
       "0              125  \n",
       "1              147  \n",
       "2              143  \n",
       "3              364  \n",
       "4              176  \n",
       "...            ...  \n",
       "697522         144  \n",
       "697523         130  \n",
       "697524         124  \n",
       "697525         144  \n",
       "697526         100  \n",
       "\n",
       "[697527 rows x 3 columns]"
      ]
     },
     "execution_count": 392,
     "metadata": {},
     "output_type": "execute_result"
    }
   ],
   "source": [
    "df = pd.read_csv('train.csv', encoding='latin1')\n",
    "df"
   ]
  },
  {
   "cell_type": "code",
   "execution_count": 393,
   "id": "f67b70a2-ad53-43d0-9083-9eb3817dd33d",
   "metadata": {},
   "outputs": [],
   "source": [
    "df.drop_duplicates(subset=['text'], inplace=True)"
   ]
  },
  {
   "cell_type": "code",
   "execution_count": 22,
   "id": "3a87fee2-6397-442b-b604-dec1475ff182",
   "metadata": {},
   "outputs": [
    {
     "data": {
      "text/plain": [
       "(696920, 3)"
      ]
     },
     "execution_count": 22,
     "metadata": {},
     "output_type": "execute_result"
    }
   ],
   "source": [
    "df.shape"
   ]
  },
  {
   "cell_type": "code",
   "execution_count": 28,
   "id": "ba0efdbd-6a50-45c9-b379-3e2d3302d7cb",
   "metadata": {},
   "outputs": [
    {
     "data": {
      "text/plain": [
       "count       26.000000\n",
       "mean     26804.615385\n",
       "std       7983.984715\n",
       "min      18964.000000\n",
       "25%      22065.000000\n",
       "50%      24326.500000\n",
       "75%      29079.500000\n",
       "max      58484.000000\n",
       "Name: count, dtype: float64"
      ]
     },
     "execution_count": 28,
     "metadata": {},
     "output_type": "execute_result"
    }
   ],
   "source": [
    "label_counts=df['target'].value_counts()\n",
    "label_counts.describe()"
   ]
  },
  {
   "cell_type": "markdown",
   "id": "8ef14dc2-019c-49df-a255-f8d19e621e65",
   "metadata": {},
   "source": [
    "We have major class imbalance which we will take into account before training our model"
   ]
  },
  {
   "cell_type": "code",
   "execution_count": 26,
   "id": "9fd3837b-ada7-412d-b5b5-4a017f1f0990",
   "metadata": {},
   "outputs": [
    {
     "data": {
      "image/png": "[encoded data removed]",
      "text/plain": [
       "<Figure size 1000x600 with 1 Axes>"
      ]
     },
     "metadata": {},
     "output_type": "display_data"
    }
   ],
   "source": [
    "import seaborn as sns\n",
    "import matplotlib.pyplot as plt\n",
    "\n",
    "# Plot the counts of each misconception_id\n",
    "plt.figure(figsize=(10, 6))\n",
    "sns.barplot(x=label_counts.index, y=label_counts.values)\n",
    "plt.xticks(rotation=90)\n",
    "plt.xlabel('Categories')\n",
    "plt.ylabel('Count')\n",
    "plt.title('Data Points per Category')\n",
    "plt.show()"
   ]
  },
  {
   "cell_type": "markdown",
   "id": "01e159f6-aff5-4dc7-a73b-3425320bb4ff",
   "metadata": {},
   "source": [
    "# Section 2: Text Preprocessing with NLTK"
   ]
  },
  {
   "cell_type": "markdown",
   "id": "828decb7-391e-4af9-8fe6-591f2599aad9",
   "metadata": {},
   "source": [
    "Here we have done some basic text cleaning in order for our LLM model to extract proper features."
   ]
  },
  {
   "cell_type": "code",
   "execution_count": 396,
   "id": "5c4c139f-462f-4d72-8ac5-b2f90402b767",
   "metadata": {},
   "outputs": [
    {
     "name": "stdout",
     "output_type": "stream",
     "text": [
      "Collecting contractions\n",
      "  Obtaining dependency information for contractions from https://files.pythonhosted.org/packages/bb/e4/725241b788963b460ce0118bfd5c505dd3d1bdd020ee740f9f39044ed4a7/contractions-0.1.73-py2.py3-none-any.whl.metadata\n",
      "  Using cached contractions-0.1.73-py2.py3-none-any.whl.metadata (1.2 kB)\n",
      "Collecting textsearch>=0.0.21 (from contractions)\n",
      "  Obtaining dependency information for textsearch>=0.0.21 from https://files.pythonhosted.org/packages/e2/0f/6f08dd89e9d71380a369b1f5b6c97a32d62fc9cfacc1c5b8329505b9e495/textsearch-0.0.24-py2.py3-none-any.whl.metadata\n",
      "  Using cached textsearch-0.0.24-py2.py3-none-any.whl.metadata (1.2 kB)\n",
      "Collecting anyascii (from textsearch>=0.0.21->contractions)\n",
      "  Obtaining dependency information for anyascii from https://files.pythonhosted.org/packages/4f/7b/a9a747e0632271d855da379532b05a62c58e979813814a57fa3b3afeb3a4/anyascii-0.3.2-py3-none-any.whl.metadata\n",
      "  Using cached anyascii-0.3.2-py3-none-any.whl.metadata (1.5 kB)\n",
      "Collecting pyahocorasick (from textsearch>=0.0.21->contractions)\n",
      "  Obtaining dependency information for pyahocorasick from https://files.pythonhosted.org/packages/36/76/d83c60ec7a202cbfeffaa9649d0fee6ddcb974622e411b86211ff3572549/pyahocorasick-2.1.0-cp311-cp311-win_amd64.whl.metadata\n",
      "  Using cached pyahocorasick-2.1.0-cp311-cp311-win_amd64.whl.metadata (13 kB)\n",
      "Using cached contractions-0.1.73-py2.py3-none-any.whl (8.7 kB)\n",
      "Using cached textsearch-0.0.24-py2.py3-none-any.whl (7.6 kB)\n",
      "Using cached anyascii-0.3.2-py3-none-any.whl (289 kB)\n",
      "Using cached pyahocorasick-2.1.0-cp311-cp311-win_amd64.whl (39 kB)\n",
      "Installing collected packages: pyahocorasick, anyascii, textsearch, contractions\n",
      "Successfully installed anyascii-0.3.2 contractions-0.1.73 pyahocorasick-2.1.0 textsearch-0.0.24\n"
     ]
    }
   ],
   "source": [
    "!pip install contractions --target \"C:\\\\Users\\\\92010\\\\Desktop\\\\CUDA STUFF\\\\cuda\\\\Lib\\\\site-packages\""
   ]
  },
  {
   "cell_type": "code",
   "execution_count": 400,
   "id": "661a6442-b836-410c-bfb1-2d06f51c7713",
   "metadata": {},
   "outputs": [],
   "source": [
    "import re\n",
    "import contractions\n",
    "from nltk.corpus import stopwords\n",
    "from nltk.stem import WordNetLemmatizer\n",
    "\n",
    "def preprocess_text(text):\n",
    "    # Expand contractions like won't to will not\n",
    "    text = contractions.fix(text)\n",
    "    \n",
    "    \n",
    "    text = re.sub(r'http\\S+|www\\S+|https\\S+', '', text, flags=re.MULTILINE)  # Remove URLs\n",
    "    text = re.sub(r'\\@\\w+|\\#', '', text)  # Remove hashtags\n",
    "    text = re.sub(r'[^\\w\\s]', '', text)  # Remove punctuation\n",
    "    text = re.sub(r'\\d+', '', text)  # Remove numbers\n",
    "    text = re.sub(r'[^\\x00-\\x7F]+', '', text)  # Remove non-ASCII characters\n",
    "    text = re.sub(r'(.)\\1{2,}', r'\\1\\1', text)  # Replace 3+ repeated characters with 2\n",
    "    text = re.sub(r'\\b[_-]+\\b', '', text)  # Remove tokens consisting entirely of underscores or dashes\n",
    "    text = re.sub(' +', ' ', text).strip()  # Remove extra whitespace and trim\n",
    "    \n",
    "    # Convert to lowercase\n",
    "    text = text.lower()\n",
    "    \n",
    "    # Remove stopwords and apply lemmatization\n",
    "    stop_words = set(stopwords.words('english'))\n",
    "    lemmatizer = WordNetLemmatizer()\n",
    "    words = text.split()\n",
    "    words = [lemmatizer.lemmatize(word) for word in words if word not in stop_words and 2 <= len(word) <= 20]\n",
    "    \n",
    "    return ' '.join(words)\n",
    "\n",
    "# Apply preprocessing\n",
    "df['cleaned_text'] = df['text'].apply(preprocess_text)\n",
    "\n"
   ]
  },
  {
   "cell_type": "code",
   "execution_count": 418,
   "id": "1e5b8df9-691b-4191-9347-72c4b679b45c",
   "metadata": {},
   "outputs": [],
   "source": [
    "df.rename(columns={'cleaned_text':'preprocessed_text'}, inplace=True)"
   ]
  },
  {
   "cell_type": "code",
   "execution_count": 420,
   "id": "d7edbf26-05b5-4c58-b592-ce40ceecb9e5",
   "metadata": {},
   "outputs": [],
   "source": [
    "df.to_csv('preprocessed_text.csv', index=False) "
   ]
  },
  {
   "cell_type": "markdown",
   "id": "7ff937f5-4d47-4dd2-8c8e-617463ab0861",
   "metadata": {},
   "source": [
    "# Section 3: Data arrangement prior to training"
   ]
  },
  {
   "cell_type": "code",
   "execution_count": 421,
   "id": "45dd7016-bae7-477e-a742-86bca7607b6d",
   "metadata": {},
   "outputs": [
    {
     "data": {
      "text/html": [
       "<div>\n",
       "<style scoped>\n",
       "    .dataframe tbody tr th:only-of-type {\n",
       "        vertical-align: middle;\n",
       "    }\n",
       "\n",
       "    .dataframe tbody tr th {\n",
       "        vertical-align: top;\n",
       "    }\n",
       "\n",
       "    .dataframe thead th {\n",
       "        text-align: right;\n",
       "    }\n",
       "</style>\n",
       "<table border=\"1\" class=\"dataframe\">\n",
       "  <thead>\n",
       "    <tr style=\"text-align: right;\">\n",
       "      <th></th>\n",
       "      <th>text</th>\n",
       "      <th>target</th>\n",
       "      <th>Word Count</th>\n",
       "      <th>preprocessed_text</th>\n",
       "      <th>labels</th>\n",
       "    </tr>\n",
       "  </thead>\n",
       "  <tbody>\n",
       "    <tr>\n",
       "      <th>0</th>\n",
       "      <td>python courses python courses, python exercise...</td>\n",
       "      <td>academic interests</td>\n",
       "      <td>125</td>\n",
       "      <td>python course python course python exercise py...</td>\n",
       "      <td>0</td>\n",
       "    </tr>\n",
       "    <tr>\n",
       "      <th>1</th>\n",
       "      <td>the learning point open digital education. a r...</td>\n",
       "      <td>academic interests</td>\n",
       "      <td>147</td>\n",
       "      <td>learning point open digital education reposito...</td>\n",
       "      <td>0</td>\n",
       "    </tr>\n",
       "    <tr>\n",
       "      <th>2</th>\n",
       "      <td>tech news, latest technology, mobiles, laptops...</td>\n",
       "      <td>academic interests</td>\n",
       "      <td>143</td>\n",
       "      <td>tech news latest technology mobile laptop ndtv...</td>\n",
       "      <td>0</td>\n",
       "    </tr>\n",
       "    <tr>\n",
       "      <th>3</th>\n",
       "      <td>the best it certification materials in usa | k...</td>\n",
       "      <td>academic interests</td>\n",
       "      <td>364</td>\n",
       "      <td>best certification material usa killtest leadi...</td>\n",
       "      <td>0</td>\n",
       "    </tr>\n",
       "    <tr>\n",
       "      <th>4</th>\n",
       "      <td>bioland scientific, for your research needs bi...</td>\n",
       "      <td>academic interests</td>\n",
       "      <td>176</td>\n",
       "      <td>bioland scientific research need bioland scien...</td>\n",
       "      <td>0</td>\n",
       "    </tr>\n",
       "  </tbody>\n",
       "</table>\n",
       "</div>"
      ],
      "text/plain": [
       "                                                text              target  \\\n",
       "0  python courses python courses, python exercise...  academic interests   \n",
       "1  the learning point open digital education. a r...  academic interests   \n",
       "2  tech news, latest technology, mobiles, laptops...  academic interests   \n",
       "3  the best it certification materials in usa | k...  academic interests   \n",
       "4  bioland scientific, for your research needs bi...  academic interests   \n",
       "\n",
       "   Word Count                                  preprocessed_text  labels  \n",
       "0         125  python course python course python exercise py...       0  \n",
       "1         147  learning point open digital education reposito...       0  \n",
       "2         143  tech news latest technology mobile laptop ndtv...       0  \n",
       "3         364  best certification material usa killtest leadi...       0  \n",
       "4         176  bioland scientific research need bioland scien...       0  "
      ]
     },
     "execution_count": 421,
     "metadata": {},
     "output_type": "execute_result"
    }
   ],
   "source": [
    "from sklearn.preprocessing import LabelEncoder\n",
    "\n",
    "le = LabelEncoder()\n",
    "\n",
    "le.fit(df['target'])\n",
    "\n",
    "# Transform the labels\n",
    "df['labels'] = le.transform(df['target'])\n",
    "df.head()"
   ]
  },
  {
   "cell_type": "code",
   "execution_count": 422,
   "id": "2331e619-ba31-4445-8552-79ec672a4300",
   "metadata": {},
   "outputs": [],
   "source": [
    "df_fin=df.loc[:, ['preprocessed_text', 'labels', 'target']]\n"
   ]
  },
  {
   "cell_type": "markdown",
   "id": "00676170",
   "metadata": {},
   "source": [
    "I plan to compare the results of training a multilabel classification model using two strategies: equalizing the number of observations per label versus applying class-balanced weights in the cross-entropy loss function, to evaluate which method improves performance."
   ]
  },
  {
   "cell_type": "markdown",
   "id": "b86c452c",
   "metadata": {},
   "source": [
    "1st approach: I split data in train and eval datasets manually. I kept 960 observations per class in eval dataset as minmum number of observations for a class were ~ 18960. This way we keep minimum 18000 for the label with the lowest observations and avoid oversampling techniques."
   ]
  },
  {
   "cell_type": "code",
   "execution_count": 423,
   "id": "fba86f84-2b00-465d-8411-361c69ea9271",
   "metadata": {},
   "outputs": [],
   "source": [
    "\n",
    "from sklearn.model_selection import train_test_split\n",
    "\n",
    "def split_train_eval(df, label_col='labels', eval_size=960):\n",
    "    train_df_list = []\n",
    "    eval_df_list = []\n",
    "    \n",
    "    for label, group in df.groupby(label_col):\n",
    "        if len(group) <= eval_size:\n",
    "            # If a label has fewer than or equal to 960 samples, send all to the eval set\n",
    "            eval_df_list.append(group)\n",
    "        else:\n",
    "            # Otherwise, split into training and evaluation sets\n",
    "            train_group, eval_group = train_test_split(group, test_size=eval_size, random_state=42, stratify=group[label_col])\n",
    "            train_df_list.append(train_group)\n",
    "            eval_df_list.append(eval_group)\n",
    "\n",
    "   \n",
    "    train_df = pd.concat(train_df_list)\n",
    "    eval_df = pd.concat(eval_df_list)\n",
    "\n",
    "    return train_df, eval_df\n",
    "\n",
    "train_df, eval_df = split_train_eval(df)\n"
   ]
  },
  {
   "cell_type": "code",
   "execution_count": 424,
   "id": "36792452-0acf-4158-a4e0-6f8ba7942eac",
   "metadata": {
    "scrolled": true
   },
   "outputs": [
    {
     "data": {
      "text/plain": [
       "labels\n",
       "0     960\n",
       "1     960\n",
       "24    960\n",
       "23    960\n",
       "22    960\n",
       "21    960\n",
       "20    960\n",
       "19    960\n",
       "18    960\n",
       "17    960\n",
       "16    960\n",
       "15    960\n",
       "14    960\n",
       "13    960\n",
       "12    960\n",
       "11    960\n",
       "10    960\n",
       "9     960\n",
       "8     960\n",
       "7     960\n",
       "6     960\n",
       "5     960\n",
       "4     960\n",
       "3     960\n",
       "2     960\n",
       "25    960\n",
       "Name: count, dtype: int64"
      ]
     },
     "execution_count": 424,
     "metadata": {},
     "output_type": "execute_result"
    }
   ],
   "source": [
    "eval_df['labels'].value_counts()"
   ]
  },
  {
   "cell_type": "code",
   "execution_count": 425,
   "id": "cca3a4cc-49cf-424b-bd36-aeda3a146b4d",
   "metadata": {},
   "outputs": [
    {
     "name": "stdout",
     "output_type": "stream",
     "text": [
      "(24960, 5) (671960, 5)\n"
     ]
    }
   ],
   "source": [
    "print(eval_df.shape, train_df.shape)"
   ]
  },
  {
   "cell_type": "markdown",
   "id": "cbbf1be2",
   "metadata": {},
   "source": [
    "2nd approach: Keep equal no. of observations for each label."
   ]
  },
  {
   "cell_type": "code",
   "execution_count": 456,
   "id": "adbdb229-07a0-4083-ad23-b72f71e6212d",
   "metadata": {
    "scrolled": true
   },
   "outputs": [
    {
     "name": "stdout",
     "output_type": "stream",
     "text": [
      "Training data shape: (468000, 3)\n",
      "Evaluation data shape: (228920, 3)\n",
      "Training label distribution:\n",
      " target\n",
      "academic interests                           18000\n",
      "arts and culture                             18000\n",
      "travel                                       18000\n",
      "television                                   18000\n",
      "technology and computing                     18000\n",
      "style and fashion                            18000\n",
      "sports                                       18000\n",
      "shopping                                     18000\n",
      "real estate                                  18000\n",
      "pharmaceuticals, conditions, and symptoms    18000\n",
      "pets                                         18000\n",
      "personal finance                             18000\n",
      "news and politics                            18000\n",
      "music and audio                              18000\n",
      "movies                                       18000\n",
      "home and garden                              18000\n",
      "hobbies and interests                        18000\n",
      "healthy living                               18000\n",
      "health                                       18000\n",
      "food and drinks                              18000\n",
      "family and relationships                     18000\n",
      "careers                                      18000\n",
      "business and finance                         18000\n",
      "books and literature                         18000\n",
      "automotives                                  18000\n",
      "video gaming                                 18000\n",
      "Name: count, dtype: int64\n"
     ]
    }
   ],
   "source": [
    "# To avoid class imbalance, we keep equal numbers of training observations per label/target. \n",
    "# 18k was chosen because it is close to minimum observation for a label/target\n",
    "import pandas as pd\n",
    "from sklearn.model_selection import train_test_split\n",
    "\n",
    "\n",
    "train_samples_per_label = 18000\n",
    "\n",
    "train_data = pd.DataFrame()\n",
    "eval_data = pd.DataFrame()\n",
    "\n",
    "\n",
    "for label in df_fin['target'].unique():\n",
    "    label_data = df_fin[df['target'] == label]  # Filter the data for this label\n",
    "    \n",
    "    if len(label_data) > train_samples_per_label:\n",
    "        # Split into train and eval based on the 18k limit\n",
    "        train_label_data, eval_label_data = train_test_split(\n",
    "            label_data, \n",
    "            train_size=train_samples_per_label, \n",
    "            random_state=42\n",
    "        )\n",
    "    else:\n",
    "        # If there are fewer than 18k, take all for training\n",
    "        train_label_data = label_data\n",
    "        eval_label_data = pd.DataFrame()  # Empty dataframe for evaluation\n",
    "    \n",
    "    # Append to train and eval datasets\n",
    "    train_data = pd.concat([train_data, train_label_data])\n",
    "    eval_data = pd.concat([eval_data, eval_label_data])\n",
    "\n",
    "# Print the size of the train and eval datasets\n",
    "print(f\"Training data shape: {train_data.shape}\")\n",
    "print(f\"Evaluation data shape: {eval_data.shape}\")\n",
    "\n",
    "# Check the balance of labels in both sets\n",
    "print(\"Training label distribution:\\n\", train_data['target'].value_counts())\n",
    "# print(\"Evaluation label distribution:\\n\", eval_data['target'].value_counts())\n"
   ]
  },
  {
   "cell_type": "code",
   "execution_count": 466,
   "id": "6579e476-8069-4918-8f59-02344b301244",
   "metadata": {},
   "outputs": [
    {
     "name": "stdout",
     "output_type": "stream",
     "text": [
      "labels\n",
      "0     960\n",
      "1     960\n",
      "24    960\n",
      "23    960\n",
      "22    960\n",
      "21    960\n",
      "20    960\n",
      "19    960\n",
      "18    960\n",
      "17    960\n",
      "16    960\n",
      "15    960\n",
      "14    960\n",
      "13    960\n",
      "12    960\n",
      "11    960\n",
      "10    960\n",
      "9     960\n",
      "8     960\n",
      "7     960\n",
      "6     960\n",
      "5     960\n",
      "4     960\n",
      "3     960\n",
      "2     960\n",
      "25    960\n",
      "Name: count, dtype: int64\n"
     ]
    },
    {
     "name": "stderr",
     "output_type": "stream",
     "text": [
      "C:\\Users\\92010\\AppData\\Local\\Temp\\2\\ipykernel_11644\\840843308.py:5: DeprecationWarning: DataFrameGroupBy.apply operated on the grouping columns. This behavior is deprecated, and in a future version of pandas the grouping columns will be excluded from the operation. Either pass `include_groups=False` to exclude the groupings or explicitly select the grouping columns after groupby to silence this warning.\n",
      "  eval_data_reduced = eval_data.groupby(label_col, group_keys=False).apply(lambda x: x.sample(min(len(x), 960), random_state=42))\n"
     ]
    }
   ],
   "source": [
    "label_col = 'labels'\n",
    "\n",
    "# Reducing eval_data to 960 observations per label\n",
    "eval_data_reduced = eval_data.groupby(label_col, group_keys=False).apply(lambda x: x.sample(min(len(x), 960), random_state=42))\n",
    "\n",
    "# Reset the index (optional, for cleanliness)\n",
    "eval_data_reduced = eval_data_reduced.reset_index(drop=True)\n",
    "\n",
    "# Check the number of observations per label\n",
    "print(eval_data_reduced[label_col].value_counts())\n"
   ]
  },
  {
   "cell_type": "code",
   "execution_count": 470,
   "id": "dd90e105-811a-4415-a117-f84acc91198f",
   "metadata": {},
   "outputs": [
    {
     "data": {
      "text/plain": [
       "DatasetDict({\n",
       "    train: Dataset({\n",
       "        features: ['preprocessed_text', 'labels', '__index_level_0__'],\n",
       "        num_rows: 468000\n",
       "    })\n",
       "    eval: Dataset({\n",
       "        features: ['preprocessed_text', 'labels'],\n",
       "        num_rows: 24960\n",
       "    })\n",
       "})"
      ]
     },
     "execution_count": 470,
     "metadata": {},
     "output_type": "execute_result"
    }
   ],
   "source": [
    "from datasets import Dataset, DatasetDict\n",
    "raw_datasets_prep = DatasetDict({\n",
    "    \"train\": Dataset.from_pandas(train_data.loc[:, ['preprocessed_text', 'labels']]),\n",
    "    \"eval\": Dataset.from_pandas(eval_data_reduced.loc[:, ['preprocessed_text', 'labels']])\n",
    "})\n",
    "raw_datasets_prep\n"
   ]
  },
  {
   "cell_type": "markdown",
   "id": "8f03d09d-0ec9-468d-bdcc-7726c74ece1d",
   "metadata": {},
   "source": [
    "# Distilbert finetuninig"
   ]
  },
  {
   "cell_type": "code",
   "execution_count": 471,
   "id": "971a1222-c3d4-4c5b-a99a-79466a5909b8",
   "metadata": {},
   "outputs": [
    {
     "name": "stderr",
     "output_type": "stream",
     "text": [
      "Some weights of DistilBertForSequenceClassification were not initialized from the model checkpoint at distilbert-base-uncased and are newly initialized: ['classifier.bias', 'classifier.weight', 'pre_classifier.bias', 'pre_classifier.weight']\n",
      "You should probably TRAIN this model on a down-stream task to be able to use it for predictions and inference.\n"
     ]
    }
   ],
   "source": [
    "from transformers import AutoModelForSequenceClassification, AutoTokenizer\n",
    "\n",
    "num_labels = df['target'].nunique()\n",
    "model_name = 'distilbert-base-uncased'  \n",
    "classifier = AutoModelForSequenceClassification.from_pretrained(model_name, num_labels=num_labels)\n",
    "tokenizer = AutoTokenizer.from_pretrained(model_name)\n",
    "\n"
   ]
  },
  {
   "cell_type": "code",
   "execution_count": 472,
   "id": "974ddb5f-1fba-429a-8067-ca32ad567b85",
   "metadata": {},
   "outputs": [
    {
     "name": "stdout",
     "output_type": "stream",
     "text": [
      "There are 26 unique labels present in the data\n"
     ]
    }
   ],
   "source": [
    "print('There are', df['target'].nunique(), 'unique labels present in the data') "
   ]
  },
  {
   "cell_type": "markdown",
   "id": "e7a4f5af-e97d-4bdd-9462-1912f6997add",
   "metadata": {},
   "source": [
    "Getting input_ids and attention_mask from text for model training"
   ]
  },
  {
   "cell_type": "code",
   "execution_count": 474,
   "id": "049e9c35-4653-4dba-8e2d-c0d0558af83a",
   "metadata": {},
   "outputs": [
    {
     "data": {
      "application/vnd.jupyter.widget-view+json": {
       "model_id": "ac112bd95ee346ec8fffd33973a436d6",
       "version_major": 2,
       "version_minor": 0
      },
      "text/plain": [
       "Map:   0%|          | 0/468000 [00:00<?, ? examples/s]"
      ]
     },
     "metadata": {},
     "output_type": "display_data"
    },
    {
     "data": {
      "application/vnd.jupyter.widget-view+json": {
       "model_id": "8c68139a1d6f492f816f39ba9176bd0c",
       "version_major": 2,
       "version_minor": 0
      },
      "text/plain": [
       "Map:   0%|          | 0/24960 [00:00<?, ? examples/s]"
      ]
     },
     "metadata": {},
     "output_type": "display_data"
    },
    {
     "name": "stdout",
     "output_type": "stream",
     "text": [
      "DatasetDict({\n",
      "    train: Dataset({\n",
      "        features: ['preprocessed_text', 'labels', '__index_level_0__', 'input_ids', 'attention_mask'],\n",
      "        num_rows: 468000\n",
      "    })\n",
      "    eval: Dataset({\n",
      "        features: ['preprocessed_text', 'labels', 'input_ids', 'attention_mask'],\n",
      "        num_rows: 24960\n",
      "    })\n",
      "})\n"
     ]
    }
   ],
   "source": [
    "tokenized_datasets_prep = raw_datasets_prep.map(lambda dataset: tokenizer(dataset['preprocessed_text'], truncation=True), batched=True)\n",
    "print(tokenized_datasets_prep)"
   ]
  },
  {
   "cell_type": "code",
   "execution_count": 480,
   "id": "c3cee214-2ea8-4ed9-bf30-39e3fa22eb9b",
   "metadata": {},
   "outputs": [
    {
     "name": "stdout",
     "output_type": "stream",
     "text": [
      "DatasetDict({\n",
      "    train: Dataset({\n",
      "        features: ['preprocessed_text', 'labels', '__index_level_0__', 'input_ids', 'attention_mask'],\n",
      "        num_rows: 468000\n",
      "    })\n",
      "    eval: Dataset({\n",
      "        features: ['preprocessed_text', 'labels', 'input_ids', 'attention_mask'],\n",
      "        num_rows: 24960\n",
      "    })\n",
      "})\n"
     ]
    }
   ],
   "source": [
    "print(tokenized_datasets_prep)"
   ]
  },
  {
   "cell_type": "code",
   "execution_count": 486,
   "id": "51b2f1b8-fc11-4002-b446-e2287c4b7aa6",
   "metadata": {},
   "outputs": [
    {
     "data": {
      "text/plain": [
       "Dataset({\n",
       "    features: ['labels', 'input_ids', 'attention_mask'],\n",
       "    num_rows: 468000\n",
       "})"
      ]
     },
     "execution_count": 486,
     "metadata": {},
     "output_type": "execute_result"
    }
   ],
   "source": [
    "tokenized_datasets_prep['train']=tokenized_datasets_prep['train'].remove_columns([\"preprocessed_text\", \"__index_level_0__\"])\n",
    "tokenized_datasets_prep['train']"
   ]
  },
  {
   "cell_type": "code",
   "execution_count": 490,
   "id": "3797d1ee-bbbc-4503-983c-34ff3cc0fb52",
   "metadata": {},
   "outputs": [
    {
     "data": {
      "text/plain": [
       "Dataset({\n",
       "    features: ['labels', 'input_ids', 'attention_mask'],\n",
       "    num_rows: 24960\n",
       "})"
      ]
     },
     "execution_count": 490,
     "metadata": {},
     "output_type": "execute_result"
    }
   ],
   "source": [
    "tokenized_datasets_prep['eval']=tokenized_datasets_prep['eval'].remove_columns(\"preprocessed_text\")\n",
    "tokenized_datasets_prep['eval']"
   ]
  },
  {
   "cell_type": "markdown",
   "id": "caa0be28-0e3f-42fb-bb4a-02dd0fddf171",
   "metadata": {},
   "source": [
    "Getting classifier on cuda for parallel computing"
   ]
  },
  {
   "cell_type": "code",
   "execution_count": 492,
   "id": "4ff58117-17ad-4e84-8316-fefd41d88f78",
   "metadata": {},
   "outputs": [
    {
     "data": {
      "text/plain": [
       "DistilBertForSequenceClassification(\n",
       "  (distilbert): DistilBertModel(\n",
       "    (embeddings): Embeddings(\n",
       "      (word_embeddings): Embedding(30522, 768, padding_idx=0)\n",
       "      (position_embeddings): Embedding(512, 768)\n",
       "      (LayerNorm): LayerNorm((768,), eps=1e-12, elementwise_affine=True)\n",
       "      (dropout): Dropout(p=0.1, inplace=False)\n",
       "    )\n",
       "    (transformer): Transformer(\n",
       "      (layer): ModuleList(\n",
       "        (0-5): 6 x TransformerBlock(\n",
       "          (attention): MultiHeadSelfAttention(\n",
       "            (dropout): Dropout(p=0.1, inplace=False)\n",
       "            (q_lin): Linear(in_features=768, out_features=768, bias=True)\n",
       "            (k_lin): Linear(in_features=768, out_features=768, bias=True)\n",
       "            (v_lin): Linear(in_features=768, out_features=768, bias=True)\n",
       "            (out_lin): Linear(in_features=768, out_features=768, bias=True)\n",
       "          )\n",
       "          (sa_layer_norm): LayerNorm((768,), eps=1e-12, elementwise_affine=True)\n",
       "          (ffn): FFN(\n",
       "            (dropout): Dropout(p=0.1, inplace=False)\n",
       "            (lin1): Linear(in_features=768, out_features=3072, bias=True)\n",
       "            (lin2): Linear(in_features=3072, out_features=768, bias=True)\n",
       "            (activation): GELUActivation()\n",
       "          )\n",
       "          (output_layer_norm): LayerNorm((768,), eps=1e-12, elementwise_affine=True)\n",
       "        )\n",
       "      )\n",
       "    )\n",
       "  )\n",
       "  (pre_classifier): Linear(in_features=768, out_features=768, bias=True)\n",
       "  (classifier): Linear(in_features=768, out_features=26, bias=True)\n",
       "  (dropout): Dropout(p=0.2, inplace=False)\n",
       ")"
      ]
     },
     "execution_count": 492,
     "metadata": {},
     "output_type": "execute_result"
    }
   ],
   "source": [
    "import torch\n",
    "device = torch.device('cuda') if torch.cuda.is_available() else torch.device('cpu')\n",
    "classifier.to(device)"
   ]
  },
  {
   "cell_type": "code",
   "execution_count": 494,
   "id": "6cc28eec-4a45-4271-a7b6-f384e7153dcf",
   "metadata": {},
   "outputs": [
    {
     "data": {
      "text/plain": [
       "device(type='cuda')"
      ]
     },
     "execution_count": 494,
     "metadata": {},
     "output_type": "execute_result"
    }
   ],
   "source": [
    "device"
   ]
  },
  {
   "cell_type": "markdown",
   "id": "de7b595c-5730-48cb-a5f0-7611e7bccd5c",
   "metadata": {},
   "source": [
    "# Comparison of Distilbert with balanced weights and equal oobservations per label "
   ]
  },
  {
   "cell_type": "code",
   "execution_count": 496,
   "id": "df9280c5-821f-4eef-adec-fed103b07343",
   "metadata": {},
   "outputs": [
    {
     "name": "stderr",
     "output_type": "stream",
     "text": [
      "C:\\Users\\92010\\Desktop\\CUDA STUFF\\cuda\\Lib\\site-packages\\accelerate\\accelerator.py:436: FutureWarning: Passing the following arguments to `Accelerator` is deprecated and will be removed in version 1.0 of Accelerate: dict_keys(['dispatch_batches', 'split_batches', 'even_batches', 'use_seedable_sampler']). Please pass an `accelerate.DataLoaderConfiguration` instead: \n",
      "dataloader_config = DataLoaderConfiguration(dispatch_batches=None, split_batches=False, even_batches=True, use_seedable_sampler=True)\n",
      "  warnings.warn(\n"
     ]
    },
    {
     "data": {
      "text/html": [
       "\n",
       "    <div>\n",
       "      \n",
       "      <progress value='146250' max='175500' style='width:300px; height:20px; vertical-align: middle;'></progress>\n",
       "      [146250/175500 12:17:29 < 2:27:30, 3.31 it/s, Epoch 5/6]\n",
       "    </div>\n",
       "    <table border=\"1\" class=\"dataframe\">\n",
       "  <thead>\n",
       " <tr style=\"text-align: left;\">\n",
       "      <th>Epoch</th>\n",
       "      <th>Training Loss</th>\n",
       "      <th>Validation Loss</th>\n",
       "      <th>Accuracy</th>\n",
       "      <th>F1</th>\n",
       "    </tr>\n",
       "  </thead>\n",
       "  <tbody>\n",
       "    <tr>\n",
       "      <td>1</td>\n",
       "      <td>0.710300</td>\n",
       "      <td>0.529660</td>\n",
       "      <td>0.851362</td>\n",
       "      <td>0.851404</td>\n",
       "    </tr>\n",
       "    <tr>\n",
       "      <td>2</td>\n",
       "      <td>0.429200</td>\n",
       "      <td>0.516402</td>\n",
       "      <td>0.858734</td>\n",
       "      <td>0.859138</td>\n",
       "    </tr>\n",
       "    <tr>\n",
       "      <td>3</td>\n",
       "      <td>0.560000</td>\n",
       "      <td>0.505667</td>\n",
       "      <td>0.863902</td>\n",
       "      <td>0.864078</td>\n",
       "    </tr>\n",
       "    <tr>\n",
       "      <td>4</td>\n",
       "      <td>0.344000</td>\n",
       "      <td>0.557322</td>\n",
       "      <td>0.862660</td>\n",
       "      <td>0.862789</td>\n",
       "    </tr>\n",
       "    <tr>\n",
       "      <td>5</td>\n",
       "      <td>0.222800</td>\n",
       "      <td>0.656192</td>\n",
       "      <td>0.861378</td>\n",
       "      <td>0.861582</td>\n",
       "    </tr>\n",
       "  </tbody>\n",
       "</table><p>"
      ],
      "text/plain": [
       "<IPython.core.display.HTML object>"
      ]
     },
     "metadata": {},
     "output_type": "display_data"
    },
    {
     "data": {
      "text/plain": [
       "TrainOutput(global_step=146250, training_loss=0.41285404790079494, metrics={'train_runtime': 44250.1919, 'train_samples_per_second': 63.457, 'train_steps_per_second': 3.966, 'total_flos': 2.4537512566627987e+17, 'train_loss': 0.41285404790079494, 'epoch': 5.0})"
      ]
     },
     "execution_count": 496,
     "metadata": {},
     "output_type": "execute_result"
    }
   ],
   "source": [
    " # Approach with equal number of observations\n",
    "\n",
    "from transformers import DataCollatorWithPadding, TrainingArguments, Trainer, EarlyStoppingCallback\n",
    "import numpy as np\n",
    "import evaluate\n",
    "\n",
    "\n",
    "data_collator = DataCollatorWithPadding(tokenizer=tokenizer)\n",
    "\n",
    "# Training arguments\n",
    "training_args = TrainingArguments(\n",
    "    output_dir=\"distilber_equal_obs_1\",\n",
    "    num_train_epochs=6,\n",
    "    evaluation_strategy=\"epoch\",\n",
    "    save_strategy=\"epoch\",\n",
    "    learning_rate=2e-5,\n",
    "    per_device_train_batch_size=16,\n",
    "    per_device_eval_batch_size=16,\n",
    "    weight_decay=5e-4,\n",
    "    logging_dir=\"./logs\",\n",
    "    logging_steps=10,\n",
    "    save_total_limit=5,\n",
    "    load_best_model_at_end=True,\n",
    "    metric_for_best_model=\"f1\",  \n",
    "    greater_is_better=True,\n",
    "    warmup_steps=500,\n",
    "    lr_scheduler_type=\"linear\",\n",
    "    report_to=\"none\",  \n",
    ")\n",
    "\n",
    "# Metrics computation function\n",
    "def compute_metrics(eval_preds):\n",
    "    logits, labels = eval_preds\n",
    "    predictions = np.argmax(logits, axis=-1)\n",
    "    \n",
    "    accuracy = accuracy_score(labels, predictions)\n",
    "    f1 = f1_score(labels, predictions, average='weighted')\n",
    "    \n",
    "    return {\n",
    "        'accuracy': accuracy,\n",
    "        'f1': f1\n",
    "    }\n",
    "\n",
    "# Initialize trainer\n",
    "trainer = Trainer(\n",
    "    model=classifier,\n",
    "    args=training_args,\n",
    "    train_dataset=tokenized_datasets_prep[\"train\"],\n",
    "    eval_dataset=tokenized_datasets_prep[\"eval\"],\n",
    "    data_collator=data_collator,\n",
    "    tokenizer=tokenizer,\n",
    "    compute_metrics=compute_metrics,\n",
    "    callbacks=[EarlyStoppingCallback(early_stopping_patience=2)] #Stop training if there is no improvement in 2 consecutive epochs.\n",
    ")\n",
    "\n",
    "\n",
    "# Start training\n",
    "trainer.train()\n"
   ]
  },
  {
   "cell_type": "code",
   "execution_count": 500,
   "id": "09872774-cc1b-433c-bfec-47432494064f",
   "metadata": {},
   "outputs": [
    {
     "data": {
      "text/html": [],
      "text/plain": [
       "<IPython.core.display.HTML object>"
      ]
     },
     "metadata": {},
     "output_type": "display_data"
    },
    {
     "name": "stdout",
     "output_type": "stream",
     "text": [
      "Classification Report:\n",
      "              precision    recall  f1-score   support\n",
      "\n",
      "           0       0.83      0.87      0.85       960\n",
      "           1       0.84      0.84      0.84       960\n",
      "           2       0.95      0.95      0.95       960\n",
      "           3       0.96      0.95      0.96       960\n",
      "           4       0.83      0.78      0.80       960\n",
      "           5       1.00      1.00      1.00       960\n",
      "           6       0.79      0.83      0.81       960\n",
      "           7       0.80      0.87      0.83       960\n",
      "           8       0.80      0.78      0.79       960\n",
      "           9       0.81      0.79      0.80       960\n",
      "          10       0.92      0.82      0.87       960\n",
      "          11       0.85      0.85      0.85       960\n",
      "          12       0.84      0.86      0.85       960\n",
      "          13       0.85      0.88      0.87       960\n",
      "          14       0.81      0.82      0.81       960\n",
      "          15       0.84      0.81      0.83       960\n",
      "          16       0.93      0.88      0.90       960\n",
      "          17       1.00      0.99      1.00       960\n",
      "          18       0.88      0.86      0.87       960\n",
      "          19       0.88      0.89      0.89       960\n",
      "          20       0.82      0.89      0.86       960\n",
      "          21       0.89      0.85      0.87       960\n",
      "          22       0.87      0.84      0.86       960\n",
      "          23       0.80      0.87      0.83       960\n",
      "          24       0.80      0.84      0.82       960\n",
      "          25       0.91      0.83      0.87       960\n",
      "\n",
      "    accuracy                           0.86     24960\n",
      "   macro avg       0.87      0.86      0.86     24960\n",
      "weighted avg       0.87      0.86      0.86     24960\n",
      "\n",
      "Confusion Matrix:\n",
      "[[839   9   2   2   6   1   1   1  13   0   4   1   0   8  13   3   2   0\n",
      "    1   2  11   6  25   6   3   1]\n",
      " [ 15 811   0   8   3   0   5   8   3   6   6  11  18  10   6   1   3   0\n",
      "    4   0   7  15   6   6   5   3]\n",
      " [  2   0 916   0   8   0   1   1   2   0   0   4   0   4   0   2   0   0\n",
      "    3   7   3   0   2   1   3   1]\n",
      " [  3   6   0 915   0   0   7   2   0   3   3   4   0   3   2   0   2   0\n",
      "    0   0   1   0   3   2   4   0]\n",
      " [ 15   4  10   1 752   0  13  10   5   4   4   7   3   2  16  45   4   0\n",
      "   17  12   5   2  17   3   5   4]\n",
      " [  1   0   0   0   0 957   0   1   1   0   0   0   0   0   0   0   0   0\n",
      "    0   0   0   0   0   0   0   0]\n",
      " [  2   8   0   3   7   0 800   8  11  18   2   4  12   7  12   4   5   0\n",
      "    2   2   4  10   1  31   4   3]\n",
      " [  3   8   0   3   7   0  10 839  10  14   1  11   3   4   1   1   1   1\n",
      "    0   8   5   3   1   7  16   3]\n",
      " [ 23   1   1   1   5   0   5  26 749  16   0   4   7   1  23  11   7   0\n",
      "    1  10  13   3   2  15  32   4]\n",
      " [  2  10   1   1   7   0  24  51  28 759   8  10   2   2   9   5   2   1\n",
      "    0   6   9   4   1   3  11   4]\n",
      " [ 10   9   0   5   3   0  13  13   3  41 786   9   5   5   5   2   7   0\n",
      "    1   0  17   4   3   4   9   6]\n",
      " [  1  20   1   1   5   0   7  14  10   3   9 814   4   2   9   4   1   0\n",
      "    9   5  15   7   2   3   9   5]\n",
      " [  1   4   1   0   2   1  16   3   2   2   4   3 821  37   6   0   2   0\n",
      "    0   1   5   5   1  28  11   4]\n",
      " [  4  10   0   1   0   0  13   3   6   1   1   2  24 848   2   0   1   0\n",
      "    1   6   5   4   4  15   4   5]\n",
      " [  9   6   0   2  11   0  17   9  22  10   0   9   4   6 786   7   4   0\n",
      "   10   7  10   1   5   5  17   3]\n",
      " [  9   6   5   1  39   0  11   1   9   3   1   5   1   3  11 780   1   0\n",
      "   46   9   3   1   9   0   6   0]\n",
      " [  4   4   1   1   5   0   7   8  10   6   2   7   6   7   5   2 841   0\n",
      "    1   5   7   3   2  13   9   4]\n",
      " [  0   0   0   0   0   1   0   0   1   1   0   0   0   0   1   0   0 955\n",
      "    0   0   0   0   1   0   0   0]\n",
      " [  2   8   5   0  20   0  10   3   3   4   0  12   1   0  13  36   0   0\n",
      "  828   4   0   0   5   0   6   0]\n",
      " [  1   4   6   0   4   0   3  10   5   2   4   6   4   1   4   4   1   0\n",
      "    3 859   3  10   7  14   5   0]\n",
      " [  4   3   4   2   1   0   5   5   5   7   3   3  11   7   7   0   2   0\n",
      "    0   5 855   4   3   5  15   4]\n",
      " [  1  11   2   1   5   0   8   6   4   9   1   8  14   8   7   0   4   1\n",
      "    4  13  17 814   0   8  11   3]\n",
      " [ 35   6  10   0  12   0   1   6   9   3   9   2   3   6   9   8   2   0\n",
      "    1   6   3   2 803   6   6  12]\n",
      " [  7   4   1   0   1   0  21   5   6   5   2   2  19  12   5   1   5   0\n",
      "    0   6   5   5   1 833  10   4]\n",
      " [ 12   4   0   1   3   0   6  12  20  17   3   9   8   5  10   7   3   0\n",
      "    2   1   5   3   5  13 810   1]\n",
      " [  2   8   1   1   5   0   7   8   5   6   4   7   8  11  11   2   4   0\n",
      "    2   3  31   6   9  19   7 793]]\n"
     ]
    }
   ],
   "source": [
    "# Get predictions\n",
    "predictions = trainer.predict(tokenized_datasets_prep[\"eval\"])  # Removed 'eval_dataset='\n",
    "pred_labels = np.argmax(predictions.predictions, axis=1)\n",
    "\n",
    "\n",
    "import numpy as np\n",
    "from transformers import Trainer\n",
    "from sklearn.metrics import classification_report, confusion_matrix\n",
    "\n",
    "# Compute classification report\n",
    "report_wt_dist_bal = classification_report(tokenized_datasets_prep[\"eval\"]['labels'], pred_labels, labels=np.arange(26), zero_division=0)\n",
    "print(\"Classification Report:\")\n",
    "print(report_wt_dist_bal)\n",
    "\n",
    "# Compute confusion matrix\n",
    "conf_matrix_dist_bal = confusion_matrix(tokenized_datasets_prep[\"eval\"]['labels'], pred_labels, labels=np.arange(26))\n",
    "print(\"Confusion Matrix:\")\n",
    "print(conf_matrix_dist_bal)\n",
    "\n"
   ]
  },
  {
   "cell_type": "code",
   "execution_count": null,
   "id": "ac2f07b6-5c1a-4d46-96e9-02047dbb691d",
   "metadata": {},
   "outputs": [],
   "source": [
    "import matplotlib.pyplot as plt\n",
    "import seaborn as sns\n",
    "import numpy as np\n",
    "\n",
    "plt.figure(figsize=(15, 10))\n",
    "ax = sns.heatmap(conf_matrix_dist_bal, annot=True, fmt=\"d\", cmap=\"YlGnBu\", cbar=True)\n",
    "\n",
    "# Customize the axis labels\n",
    "ax.set_xlabel('Predicted Labels')\n",
    "ax.set_ylabel('True Labels')\n",
    "plt.title('Confusion Matrix Heatmap balanced weights Distilbert')\n",
    "plt.show()\n"
   ]
  },
  {
   "cell_type": "markdown",
   "id": "e05ddc50",
   "metadata": {},
   "source": [
    " Approach with cross entropy and balanced weights\n"
   ]
  },
  {
   "cell_type": "code",
   "execution_count": 435,
   "id": "8722a69b-8d36-4b19-b3c3-d7bfc22ee491",
   "metadata": {},
   "outputs": [
    {
     "data": {
      "text/plain": [
       "tensor([0.4493, 1.0182, 0.9563, 0.6550, 0.9553, 0.8821, 0.9237, 1.1505, 1.4355,\n",
       "        0.8621, 1.1249, 1.1726, 1.2418, 1.3144, 0.8844, 1.2824, 1.1158, 1.0081,\n",
       "        1.1303, 0.9066, 1.0965, 0.9176, 1.3085, 1.3925, 1.2472, 1.1758])"
      ]
     },
     "execution_count": 435,
     "metadata": {},
     "output_type": "execute_result"
    }
   ],
   "source": [
    " \n",
    "import torch\n",
    "from transformers import Trainer, TrainingArguments, DistilBertForSequenceClassification\n",
    "from sklearn.utils.class_weight import compute_class_weight\n",
    "import numpy as np\n",
    "from sklearn.metrics import accuracy_score, f1_score\n",
    "\n",
    "labels = np.array(tokenized_datasets_prep['train']['labels'])\n",
    "\n",
    "# Compute balanced weights for each class\n",
    "class_weights = compute_class_weight(class_weight='balanced', classes=np.unique(labels), y=labels)\n",
    "class_weights_tensor = torch.tensor(class_weights, dtype=torch.float)\n",
    "\n",
    "# Custom loss function with class weights\n",
    "def custom_loss(output, target):\n",
    "    loss_fct = torch.nn.CrossEntropyLoss(weight=class_weights_tensor.to(output.device))\n",
    "    return loss_fct(output, target)\n",
    "\n",
    "class CustomTrainer(Trainer):\n",
    "    def __init__(self, *args, class_weights=None, **kwargs):\n",
    "        super().__init__(*args, **kwargs)\n",
    "        self.class_weights = class_weights\n",
    "\n",
    "    def compute_loss(self, model, inputs, return_outputs=False):\n",
    "        labels = inputs.get(\"labels\")\n",
    "        outputs = model(**inputs)\n",
    "        logits = outputs.get(\"logits\")\n",
    "        loss_fct = torch.nn.CrossEntropyLoss(weight=self.class_weights)\n",
    "        loss = loss_fct(logits.view(-1, self.model.config.num_labels), labels.view(-1))\n",
    "        return (loss, outputs) if return_outputs else loss\n",
    "\n",
    "class_weights_tensor"
   ]
  },
  {
   "cell_type": "code",
   "execution_count": 436,
   "id": "c786759d-0abd-46a3-a454-6583044ae62c",
   "metadata": {},
   "outputs": [
    {
     "name": "stderr",
     "output_type": "stream",
     "text": [
      "C:\\Users\\92010\\Desktop\\CUDA STUFF\\cuda\\Lib\\site-packages\\accelerate\\accelerator.py:436: FutureWarning: Passing the following arguments to `Accelerator` is deprecated and will be removed in version 1.0 of Accelerate: dict_keys(['dispatch_batches', 'split_batches', 'even_batches', 'use_seedable_sampler']). Please pass an `accelerate.DataLoaderConfiguration` instead: \n",
      "dataloader_config = DataLoaderConfiguration(dispatch_batches=None, split_batches=False, even_batches=True, use_seedable_sampler=True)\n",
      "  warnings.warn(\n"
     ]
    },
    {
     "data": {
      "text/html": [
       "\n",
       "    <div>\n",
       "      \n",
       "      <progress value='209990' max='251988' style='width:300px; height:20px; vertical-align: middle;'></progress>\n",
       "      [209990/251988 18:42:20 < 3:44:28, 3.12 it/s, Epoch 5/6]\n",
       "    </div>\n",
       "    <table border=\"1\" class=\"dataframe\">\n",
       "  <thead>\n",
       " <tr style=\"text-align: left;\">\n",
       "      <th>Epoch</th>\n",
       "      <th>Training Loss</th>\n",
       "      <th>Validation Loss</th>\n",
       "      <th>Accuracy</th>\n",
       "      <th>F1</th>\n",
       "    </tr>\n",
       "  </thead>\n",
       "  <tbody>\n",
       "    <tr>\n",
       "      <td>1</td>\n",
       "      <td>0.549900</td>\n",
       "      <td>0.544015</td>\n",
       "      <td>0.848037</td>\n",
       "      <td>0.848325</td>\n",
       "    </tr>\n",
       "    <tr>\n",
       "      <td>2</td>\n",
       "      <td>0.438300</td>\n",
       "      <td>0.507289</td>\n",
       "      <td>0.859335</td>\n",
       "      <td>0.859222</td>\n",
       "    </tr>\n",
       "    <tr>\n",
       "      <td>3</td>\n",
       "      <td>0.335600</td>\n",
       "      <td>0.518419</td>\n",
       "      <td>0.865064</td>\n",
       "      <td>0.865303</td>\n",
       "    </tr>\n",
       "    <tr>\n",
       "      <td>4</td>\n",
       "      <td>0.349100</td>\n",
       "      <td>0.571660</td>\n",
       "      <td>0.864824</td>\n",
       "      <td>0.865084</td>\n",
       "    </tr>\n",
       "    <tr>\n",
       "      <td>5</td>\n",
       "      <td>0.140800</td>\n",
       "      <td>0.664395</td>\n",
       "      <td>0.862780</td>\n",
       "      <td>0.862916</td>\n",
       "    </tr>\n",
       "  </tbody>\n",
       "</table><p>"
      ],
      "text/plain": [
       "<IPython.core.display.HTML object>"
      ]
     },
     "metadata": {},
     "output_type": "display_data"
    },
    {
     "data": {
      "text/plain": [
       "TrainOutput(global_step=209990, training_loss=0.38098081063117817, metrics={'train_runtime': 67341.2293, 'train_samples_per_second': 59.871, 'train_steps_per_second': 3.742, 'total_flos': 3.508612928222445e+17, 'train_loss': 0.38098081063117817, 'epoch': 5.0})"
      ]
     },
     "execution_count": 436,
     "metadata": {},
     "output_type": "execute_result"
    }
   ],
   "source": [
    " # This got interupted due to sudden restart\n",
    "from transformers import DataCollatorWithPadding, TrainingArguments, Trainer, EarlyStoppingCallback\n",
    "import numpy as np\n",
    "import evaluate\n",
    "\n",
    "\n",
    "data_collator = DataCollatorWithPadding(tokenizer=tokenizer)\n",
    "\n",
    "# Training arguments\n",
    "training_args = TrainingArguments(\n",
    "    output_dir=\"distilber_balanced_wts_1\",\n",
    "    num_train_epochs=6,\n",
    "    evaluation_strategy=\"epoch\",\n",
    "    save_strategy=\"epoch\",\n",
    "    learning_rate=2e-5,\n",
    "    per_device_train_batch_size=16,\n",
    "    per_device_eval_batch_size=16,\n",
    "    weight_decay=5e-4,\n",
    "    logging_dir=\"./logs\",\n",
    "    logging_steps=10,\n",
    "    save_total_limit=5,\n",
    "    load_best_model_at_end=True,\n",
    "    metric_for_best_model=\"f1\",\n",
    "    greater_is_better=True,\n",
    "    warmup_steps=500,\n",
    "    lr_scheduler_type=\"linear\",\n",
    "    report_to=\"none\",  \n",
    ")\n",
    "\n",
    "# Metrics computation function\n",
    "def compute_metrics(eval_preds):\n",
    "    logits, labels = eval_preds\n",
    "    predictions = np.argmax(logits, axis=-1)\n",
    "    \n",
    "    accuracy = accuracy_score(labels, predictions)\n",
    "    f1 = f1_score(labels, predictions, average='weighted')\n",
    "    \n",
    "    return {\n",
    "        'accuracy': accuracy,\n",
    "        'f1': f1\n",
    "    }\n",
    "\n",
    "# Initialize trainer\n",
    "trainer = CustomTrainer(\n",
    "    model=classifier,\n",
    "    args=training_args,\n",
    "    train_dataset=tokenized_datasets_prep[\"train\"],\n",
    "    eval_dataset=tokenized_datasets_prep[\"eval\"],\n",
    "    data_collator=data_collator,\n",
    "    tokenizer=tokenizer,\n",
    "    compute_metrics=compute_metrics,\n",
    "    callbacks=[EarlyStoppingCallback(early_stopping_patience=2)]\n",
    ")\n",
    "\n",
    "\n",
    "# Start training\n",
    "trainer.train()\n"
   ]
  },
  {
   "cell_type": "code",
   "execution_count": 452,
   "id": "6b382d8b-3b2c-41c7-bbf7-000b5f15e2ae",
   "metadata": {},
   "outputs": [
    {
     "data": {
      "text/html": [],
      "text/plain": [
       "<IPython.core.display.HTML object>"
      ]
     },
     "metadata": {},
     "output_type": "display_data"
    },
    {
     "name": "stdout",
     "output_type": "stream",
     "text": [
      "Classification Report:\n",
      "              precision    recall  f1-score   support\n",
      "\n",
      "           0       0.79      0.92      0.85       960\n",
      "           1       0.83      0.84      0.84       960\n",
      "           2       0.96      0.96      0.96       960\n",
      "           3       0.94      0.97      0.95       960\n",
      "           4       0.82      0.84      0.83       960\n",
      "           5       1.00      1.00      1.00       960\n",
      "           6       0.77      0.88      0.82       960\n",
      "           7       0.85      0.86      0.86       960\n",
      "           8       0.84      0.80      0.82       960\n",
      "           9       0.84      0.85      0.84       960\n",
      "          10       0.94      0.82      0.88       960\n",
      "          11       0.90      0.87      0.88       960\n",
      "          12       0.85      0.84      0.85       960\n",
      "          13       0.88      0.86      0.87       960\n",
      "          14       0.82      0.86      0.84       960\n",
      "          15       0.86      0.85      0.85       960\n",
      "          16       0.90      0.88      0.89       960\n",
      "          17       1.00      1.00      1.00       960\n",
      "          18       0.92      0.86      0.89       960\n",
      "          19       0.91      0.90      0.90       960\n",
      "          20       0.85      0.86      0.85       960\n",
      "          21       0.85      0.90      0.87       960\n",
      "          22       0.88      0.85      0.86       960\n",
      "          23       0.87      0.83      0.85       960\n",
      "          24       0.86      0.86      0.86       960\n",
      "          25       0.90      0.85      0.88       960\n",
      "\n",
      "    accuracy                           0.88     24960\n",
      "   macro avg       0.88      0.88      0.88     24960\n",
      "weighted avg       0.88      0.88      0.88     24960\n",
      "\n",
      "Confusion Matrix:\n",
      "[[854   9   1   3   7   0   1   2  11   6   3   0   0   5  15   7   1   0\n",
      "    0   1   4   0  22   1   5   2]\n",
      " [ 16 800   2  13   7   0  13   6   3   4   5   5  12   5  11   3   1   0\n",
      "    3   4   8  16   7   7   4   5]\n",
      " [  2   0 925   0   9   0   0   1   0   0   0   1   0   2   1   4   1   0\n",
      "    1   2   0   1   8   1   1   0]\n",
      " [  2   8   0 922   2   0   3   1   0   3   1   2   3   2   0   0   1   0\n",
      "    1   2   1   0   2   1   2   1]\n",
      " [ 19  10   4   2 780   0   8   3   2   4   1   2   0   2  24  40   2   0\n",
      "   16   6   2   3  17   2   5   6]\n",
      " [  1   0   0   1   0 955   0   0   0   0   0   0   0   0   0   0   0   0\n",
      "    0   1   0   0   1   0   1   0]\n",
      " [  6   2   0   6   6   0 828   0   5  12   2   3  19   6  17   4   1   0\n",
      "    1   3   5   6   0  16   8   4]\n",
      " [  4   5   0   1   4   0  17 791  15  42   4   6   6   2   8   3   4   0\n",
      "    4  15   6   5   3   2  10   3]\n",
      " [ 35   1   1   0   1   0   7  12 768  18   0   4   3   5  30   8   7   0\n",
      "    1  10  10   3   3  11  20   2]\n",
      " [  7   3   0   6   8   0  14  28  13 812   1   6   5   0  12   5  12   1\n",
      "    1   3   1   3   2   6   5   6]\n",
      " [  5  16   2   8   4   0  19   5   7  52 751   7  10   9   0   6   6   0\n",
      "    1   4  13   3   4  11   6  11]\n",
      " [  4   7   1   4   4   0  10  13   4   9   5 819   5   2   5   5  12   0\n",
      "    7   5   5  10   2   8   6   8]\n",
      " [  1   5   0   0   4   1  22   0   1   3   2   2 797  26   5   0   7   0\n",
      "    0   5   7  12   1  44   8   7]\n",
      " [  4  11   1   2   0   0   8   1   9   5   3   1  27 810   4   2   4   0\n",
      "    1   3   8   9   8  25   8   6]\n",
      " [ 16   4   1   4  12   0  10   2  16   1   0   3   8   2 834   6   1   0\n",
      "    5   3   5   2   6   4  11   4]\n",
      " [  9   4   3   0  43   0   9   2  10   0   1   4   4   0   9 811   0   0\n",
      "   32   4   1   4   5   1   3   1]\n",
      " [ 13   4   0   2   3   0   4   7   7   6   8   9  12   2  11   1 827   0\n",
      "    7   8   2   8   8   3   5   3]\n",
      " [  0   0   0   0   0   0   0   0   1   0   0   0   0   0   0   0   1 958\n",
      "    0   0   0   0   0   0   0   0]\n",
      " [  1   6   2   0  25   0   6   3   1   0   2   9   1   2  13  54   1   0\n",
      "  817   7   0   2   3   1   2   2]\n",
      " [  6   2   3   0   3   0   5   8   8   1   2   5   0   3   3   9   2   0\n",
      "    2 872   1  13   4   2   3   3]\n",
      " [ 14   2   5   0   4   1   7   5   8  17   5   9  10   4  12   3   4   0\n",
      "    0   8 798  15   1   6  10  12]\n",
      " [  5  11   0   0   3   0  14   1   3  10   1   4   8   6   7   0   1   0\n",
      "    1  13   4 845   3   9   4   7]\n",
      " [ 42   3   4   0  16   0   6   1   7  11   2   2   3   5   5   3   4   0\n",
      "    3   6   1   3 822   2   4   5]\n",
      " [  5   3   1   2   1   0  34   3   6  10   3   1  11  12  13   1   4   0\n",
      "    1  14   5  10   5 802   9   4]\n",
      " [  9   5   1   1   7   0  10   4  25  18   5   8   9   3   9   3   6   0\n",
      "    0   9  16   4   4  10 792   2]\n",
      " [  5   6   0   6   5   0  10   6   5   7   4   4   9  12  13   1   2   0\n",
      "    3   7  16  12  11  14   0 802]]\n"
     ]
    }
   ],
   "source": [
    "# Perform evaluation on the reduced dataset\n",
    "# evaluation_results = trainer.evaluate(eval_dataset=tokenized_datasets_prep[\"eval\"])\n",
    "\n",
    "# Get predictions\n",
    "predictions = trainer.predict(tokenized_datasets_prep[\"eval\"])  # Removed 'eval_dataset='\n",
    "pred_labels = np.argmax(predictions.predictions, axis=1)\n",
    "\n",
    "\n",
    "import numpy as np\n",
    "from transformers import Trainer\n",
    "from sklearn.metrics import classification_report, confusion_matrix\n",
    "\n",
    "# Compute classification report\n",
    "report_wt_dist = classification_report(tokenized_datasets_prep[\"eval\"]['labels'], pred_labels, labels=np.arange(26), zero_division=0)\n",
    "print(\"Classification Report:\")\n",
    "print(report_wt_rob)\n",
    "\n",
    "# Compute confusion matrix\n",
    "conf_matrix_wt_dist = confusion_matrix(tokenized_datasets_prep[\"eval\"]['labels'], pred_labels, labels=np.arange(26))\n",
    "print(\"Confusion Matrix:\")\n",
    "print(conf_matrix_wt_dist)\n"
   ]
  },
  {
   "cell_type": "code",
   "execution_count": 453,
   "id": "b8e2b1ec-ce2d-4c5d-999d-ff9417cdcba0",
   "metadata": {},
   "outputs": [
    {
     "data": {
      "image/png": "[encoded data removed]",
      "text/plain": [
       "<Figure size 1500x1000 with 2 Axes>"
      ]
     },
     "metadata": {},
     "output_type": "display_data"
    }
   ],
   "source": [
    "\n",
    "import matplotlib.pyplot as plt\n",
    "import seaborn as sns\n",
    "import numpy as np\n",
    "\n",
    "plt.figure(figsize=(15, 10))\n",
    "ax = sns.heatmap(conf_matrix_wt_rob, annot=True, fmt=\"d\", cmap=\"YlGnBu\", cbar=True)\n",
    "\n",
    "# Customize the axis labels\n",
    "ax.set_xlabel('Predicted Labels')\n",
    "ax.set_ylabel('True Labels')\n",
    "plt.title('Confusion Matrix Heatmap balanced weights Distilbert')\n",
    "plt.show()\n"
   ]
  },
  {
   "cell_type": "code",
   "execution_count": 114,
   "id": "36afd108-880b-4af7-bf7a-901ce4915cf5",
   "metadata": {},
   "outputs": [
    {
     "data": {
      "text/html": [
       "<div>\n",
       "<style scoped>\n",
       "    .dataframe tbody tr th:only-of-type {\n",
       "        vertical-align: middle;\n",
       "    }\n",
       "\n",
       "    .dataframe tbody tr th {\n",
       "        vertical-align: top;\n",
       "    }\n",
       "\n",
       "    .dataframe thead th {\n",
       "        text-align: right;\n",
       "    }\n",
       "</style>\n",
       "<table border=\"1\" class=\"dataframe\">\n",
       "  <thead>\n",
       "    <tr style=\"text-align: right;\">\n",
       "      <th></th>\n",
       "      <th>text</th>\n",
       "      <th>Word Count</th>\n",
       "      <th>Index</th>\n",
       "    </tr>\n",
       "  </thead>\n",
       "  <tbody>\n",
       "    <tr>\n",
       "      <th>0</th>\n",
       "      <td>equl offers enzyme assay kits, reagent mixture...</td>\n",
       "      <td>353</td>\n",
       "      <td>Article_0</td>\n",
       "    </tr>\n",
       "    <tr>\n",
       "      <th>1</th>\n",
       "      <td>gauthmath: instant math questions solver for f...</td>\n",
       "      <td>112</td>\n",
       "      <td>Article_1</td>\n",
       "    </tr>\n",
       "    <tr>\n",
       "      <th>2</th>\n",
       "      <td>Whats the No. 1 cause of blindness in older ad...</td>\n",
       "      <td>340</td>\n",
       "      <td>Article_2</td>\n",
       "    </tr>\n",
       "    <tr>\n",
       "      <th>3</th>\n",
       "      <td>Surfers will ride a wave in the Amazon this we...</td>\n",
       "      <td>465</td>\n",
       "      <td>Article_3</td>\n",
       "    </tr>\n",
       "    <tr>\n",
       "      <th>4</th>\n",
       "      <td>Why is the top of a leaf the most colorful, so...</td>\n",
       "      <td>269</td>\n",
       "      <td>Article_4</td>\n",
       "    </tr>\n",
       "  </tbody>\n",
       "</table>\n",
       "</div>"
      ],
      "text/plain": [
       "                                                text  Word Count      Index\n",
       "0  equl offers enzyme assay kits, reagent mixture...         353  Article_0\n",
       "1  gauthmath: instant math questions solver for f...         112  Article_1\n",
       "2  Whats the No. 1 cause of blindness in older ad...         340  Article_2\n",
       "3  Surfers will ride a wave in the Amazon this we...         465  Article_3\n",
       "4  Why is the top of a leaf the most colorful, so...         269  Article_4"
      ]
     },
     "execution_count": 114,
     "metadata": {},
     "output_type": "execute_result"
    }
   ],
   "source": [
    "test_df = pd.read_csv('test.csv', encoding='latin1')\n",
    "test_df.head()"
   ]
  },
  {
   "cell_type": "code",
   "execution_count": 116,
   "id": "f63070ba-2aee-435a-96f5-87d97795b75b",
   "metadata": {},
   "outputs": [
    {
     "data": {
      "text/html": [
       "<div>\n",
       "<style scoped>\n",
       "    .dataframe tbody tr th:only-of-type {\n",
       "        vertical-align: middle;\n",
       "    }\n",
       "\n",
       "    .dataframe tbody tr th {\n",
       "        vertical-align: top;\n",
       "    }\n",
       "\n",
       "    .dataframe thead th {\n",
       "        text-align: right;\n",
       "    }\n",
       "</style>\n",
       "<table border=\"1\" class=\"dataframe\">\n",
       "  <thead>\n",
       "    <tr style=\"text-align: right;\">\n",
       "      <th></th>\n",
       "      <th>text</th>\n",
       "      <th>Word Count</th>\n",
       "      <th>Index</th>\n",
       "      <th>preprocessed_text</th>\n",
       "    </tr>\n",
       "  </thead>\n",
       "  <tbody>\n",
       "    <tr>\n",
       "      <th>0</th>\n",
       "      <td>equl offers enzyme assay kits, reagent mixture...</td>\n",
       "      <td>353</td>\n",
       "      <td>Article_0</td>\n",
       "      <td>equl offers enzyme assay kits reagent mixtures...</td>\n",
       "    </tr>\n",
       "    <tr>\n",
       "      <th>1</th>\n",
       "      <td>gauthmath: instant math questions solver for f...</td>\n",
       "      <td>112</td>\n",
       "      <td>Article_1</td>\n",
       "      <td>gauthmath instant math questions solver free a...</td>\n",
       "    </tr>\n",
       "    <tr>\n",
       "      <th>2</th>\n",
       "      <td>Whats the No. 1 cause of blindness in older ad...</td>\n",
       "      <td>340</td>\n",
       "      <td>Article_2</td>\n",
       "      <td>whats &lt; NUM &gt; cause blindness older adults uni...</td>\n",
       "    </tr>\n",
       "    <tr>\n",
       "      <th>3</th>\n",
       "      <td>Surfers will ride a wave in the Amazon this we...</td>\n",
       "      <td>465</td>\n",
       "      <td>Article_3</td>\n",
       "      <td>surfers ride wave amazon week sciencethis week...</td>\n",
       "    </tr>\n",
       "    <tr>\n",
       "      <th>4</th>\n",
       "      <td>Why is the top of a leaf the most colorful, so...</td>\n",
       "      <td>269</td>\n",
       "      <td>Article_4</td>\n",
       "      <td>top leaf colorful sometimes bright red undersi...</td>\n",
       "    </tr>\n",
       "    <tr>\n",
       "      <th>...</th>\n",
       "      <td>...</td>\n",
       "      <td>...</td>\n",
       "      <td>...</td>\n",
       "      <td>...</td>\n",
       "    </tr>\n",
       "    <tr>\n",
       "      <th>174377</th>\n",
       "      <td>his story will soon pale in comparison next to...</td>\n",
       "      <td>119</td>\n",
       "      <td>Article_174377</td>\n",
       "      <td>story soon pale comparison next ciriâs oneti...</td>\n",
       "    </tr>\n",
       "    <tr>\n",
       "      <th>174378</th>\n",
       "      <td>Mundo.Take a look at a gallery of covers below...</td>\n",
       "      <td>115</td>\n",
       "      <td>Article_174378</td>\n",
       "      <td>mundotake look gallery covers belowimage &lt; NUM...</td>\n",
       "    </tr>\n",
       "    <tr>\n",
       "      <th>174379</th>\n",
       "      <td>may change over the course of the game's devel...</td>\n",
       "      <td>141</td>\n",
       "      <td>Article_174379</td>\n",
       "      <td>may change course games development exciting s...</td>\n",
       "    </tr>\n",
       "    <tr>\n",
       "      <th>174380</th>\n",
       "      <td>Mark Gustafson. If you've already watched it a...</td>\n",
       "      <td>101</td>\n",
       "      <td>Article_174380</td>\n",
       "      <td>mark gustafson youve already watched arent sur...</td>\n",
       "    </tr>\n",
       "    <tr>\n",
       "      <th>174381</th>\n",
       "      <td>Mann/Tomeu MoreyPoison Ivy #7 by David Nakayam...</td>\n",
       "      <td>160</td>\n",
       "      <td>Article_174381</td>\n",
       "      <td>manntomeu moreypoison ivy &lt; NUM &gt; david nakaya...</td>\n",
       "    </tr>\n",
       "  </tbody>\n",
       "</table>\n",
       "<p>174382 rows × 4 columns</p>\n",
       "</div>"
      ],
      "text/plain": [
       "                                                     text  Word Count  \\\n",
       "0       equl offers enzyme assay kits, reagent mixture...         353   \n",
       "1       gauthmath: instant math questions solver for f...         112   \n",
       "2       Whats the No. 1 cause of blindness in older ad...         340   \n",
       "3       Surfers will ride a wave in the Amazon this we...         465   \n",
       "4       Why is the top of a leaf the most colorful, so...         269   \n",
       "...                                                   ...         ...   \n",
       "174377  his story will soon pale in comparison next to...         119   \n",
       "174378  Mundo.Take a look at a gallery of covers below...         115   \n",
       "174379  may change over the course of the game's devel...         141   \n",
       "174380  Mark Gustafson. If you've already watched it a...         101   \n",
       "174381  Mann/Tomeu MoreyPoison Ivy #7 by David Nakayam...         160   \n",
       "\n",
       "                 Index                                  preprocessed_text  \n",
       "0            Article_0  equl offers enzyme assay kits reagent mixtures...  \n",
       "1            Article_1  gauthmath instant math questions solver free a...  \n",
       "2            Article_2  whats < NUM > cause blindness older adults uni...  \n",
       "3            Article_3  surfers ride wave amazon week sciencethis week...  \n",
       "4            Article_4  top leaf colorful sometimes bright red undersi...  \n",
       "...                ...                                                ...  \n",
       "174377  Article_174377  story soon pale comparison next ciriâs oneti...  \n",
       "174378  Article_174378  mundotake look gallery covers belowimage < NUM...  \n",
       "174379  Article_174379  may change course games development exciting s...  \n",
       "174380  Article_174380  mark gustafson youve already watched arent sur...  \n",
       "174381  Article_174381  manntomeu moreypoison ivy < NUM > david nakaya...  \n",
       "\n",
       "[174382 rows x 4 columns]"
      ]
     },
     "execution_count": 116,
     "metadata": {},
     "output_type": "execute_result"
    }
   ],
   "source": [
    "preprocess_text(test_df)"
   ]
  },
  {
   "cell_type": "code",
   "execution_count": 124,
   "id": "b8883700-184f-4059-996b-fed21d5d08d5",
   "metadata": {},
   "outputs": [
    {
     "data": {
      "application/vnd.jupyter.widget-view+json": {
       "model_id": "ca559041d5bf4b15ad575ac1a33baba7",
       "version_major": 2,
       "version_minor": 0
      },
      "text/plain": [
       "Map:   0%|          | 0/174382 [00:00<?, ? examples/s]"
      ]
     },
     "metadata": {},
     "output_type": "display_data"
    }
   ],
   "source": [
    "# Create Dataset object from test dataframe (this is before tokenization)\n",
    "test_dataset = Dataset.from_pandas(test_df[['preprocessed_text']])\n",
    "# Tokenize the 'preprocessed_text' column\n",
    "def tokenize_function(examples):\n",
    "    return tokenizer(examples['preprocessed_text'], truncation=True, padding=True)\n",
    "\n",
    "# Apply the tokenizer to the test dataset\n",
    "tokenized_test_dataset = test_dataset.map(tokenize_function, batched=True)\n"
   ]
  },
  {
   "cell_type": "code",
   "execution_count": 125,
   "id": "e5c95191-24d0-478c-9a69-91164db4fb66",
   "metadata": {},
   "outputs": [
    {
     "data": {
      "text/plain": [
       "Dataset({\n",
       "    features: ['preprocessed_text', 'input_ids', 'attention_mask'],\n",
       "    num_rows: 174382\n",
       "})"
      ]
     },
     "execution_count": 125,
     "metadata": {},
     "output_type": "execute_result"
    }
   ],
   "source": [
    "tokenized_test_dataset"
   ]
  },
  {
   "cell_type": "code",
   "execution_count": 128,
   "id": "8f2333fd-3e04-44ee-9e78-00e51fb0133d",
   "metadata": {},
   "outputs": [],
   "source": [
    "tokenized_test_dataset = tokenized_test_dataset.remove_columns(['preprocessed_text'])\n"
   ]
  },
  {
   "cell_type": "code",
   "execution_count": 347,
   "id": "28a5a2f3-cc64-403f-9065-01d6f6e106c1",
   "metadata": {},
   "outputs": [
    {
     "data": {
      "text/html": [],
      "text/plain": [
       "<IPython.core.display.HTML object>"
      ]
     },
     "metadata": {},
     "output_type": "display_data"
    },
    {
     "name": "stderr",
     "output_type": "stream",
     "text": [
      "C:\\Users\\92010\\AppData\\Local\\Temp\\2\\ipykernel_11644\\2716944087.py:17: SettingWithCopyWarning: \n",
      "A value is trying to be set on a copy of a slice from a DataFrame\n",
      "\n",
      "See the caveats in the documentation: https://pandas.pydata.org/pandas-docs/stable/user_guide/indexing.html#returning-a-view-versus-a-copy\n",
      "  submission_df.rename(columns={\"predicted_label\": \"target\"}, inplace=True)\n"
     ]
    },
    {
     "data": {
      "text/html": [
       "<div>\n",
       "<style scoped>\n",
       "    .dataframe tbody tr th:only-of-type {\n",
       "        vertical-align: middle;\n",
       "    }\n",
       "\n",
       "    .dataframe tbody tr th {\n",
       "        vertical-align: top;\n",
       "    }\n",
       "\n",
       "    .dataframe thead th {\n",
       "        text-align: right;\n",
       "    }\n",
       "</style>\n",
       "<table border=\"1\" class=\"dataframe\">\n",
       "  <thead>\n",
       "    <tr style=\"text-align: right;\">\n",
       "      <th></th>\n",
       "      <th>target</th>\n",
       "      <th>Index</th>\n",
       "    </tr>\n",
       "  </thead>\n",
       "  <tbody>\n",
       "    <tr>\n",
       "      <th>0</th>\n",
       "      <td>hobbies and interests</td>\n",
       "      <td>Article_0</td>\n",
       "    </tr>\n",
       "    <tr>\n",
       "      <th>1</th>\n",
       "      <td>movies</td>\n",
       "      <td>Article_1</td>\n",
       "    </tr>\n",
       "    <tr>\n",
       "      <th>2</th>\n",
       "      <td>hobbies and interests</td>\n",
       "      <td>Article_2</td>\n",
       "    </tr>\n",
       "    <tr>\n",
       "      <th>3</th>\n",
       "      <td>hobbies and interests</td>\n",
       "      <td>Article_3</td>\n",
       "    </tr>\n",
       "    <tr>\n",
       "      <th>4</th>\n",
       "      <td>health</td>\n",
       "      <td>Article_4</td>\n",
       "    </tr>\n",
       "  </tbody>\n",
       "</table>\n",
       "</div>"
      ],
      "text/plain": [
       "                  target      Index\n",
       "0  hobbies and interests  Article_0\n",
       "1                 movies  Article_1\n",
       "2  hobbies and interests  Article_2\n",
       "3  hobbies and interests  Article_3\n",
       "4                 health  Article_4"
      ]
     },
     "execution_count": 347,
     "metadata": {},
     "output_type": "execute_result"
    }
   ],
   "source": [
    "# Make predictions using the Trainer\n",
    "test_predictions = trainer.predict(tokenized_test_dataset)\n",
    "\n",
    "# Get predicted labels (index of max logits)\n",
    "test_pred_labels = np.argmax(test_predictions.predictions, axis=1)\n",
    "\n",
    "# Inverse transform the encoded labels to get original labels\n",
    "original_labels = le.inverse_transform(test_pred_labels)\n",
    "\n",
    "# Add the predicted labels to the test dataframe\n",
    "test_df['predicted_label'] = original_labels\n",
    "\n",
    "# Preparing the submission DataFrame\n",
    "submission_df = test_df[['predicted_label', 'Index']]\n",
    "\n",
    "# Renaming 'predicted_label' to 'target' as required\n",
    "submission_df.rename(columns={\"predicted_label\": \"target\"}, inplace=True)\n",
    "\n",
    "# Saving the submission file with latin1 encoding\n",
    "submission_df.to_csv('submission_3.csv', index=False, encoding='latin1')\n",
    "\n",
    "# Check the first few rows to verify\n",
    "submission_df.head()\n"
   ]
  },
  {
   "cell_type": "markdown",
   "id": "a42803b5",
   "metadata": {},
   "source": [
    "# Appendix"
   ]
  },
  {
   "cell_type": "markdown",
   "id": "5746cae4",
   "metadata": {},
   "source": [
    "I tried to use Roberta. It's results were marginally better that Distilbert. However, considering less time to train Distilbert is better. Classification report attached for roberta below."
   ]
  },
  {
   "cell_type": "code",
   "execution_count": null,
   "id": "ee6797c1",
   "metadata": {},
   "outputs": [],
   "source": [
    "'''\n",
    "Classification Report: Roberta\n",
    "              precision    recall  f1-score   support\n",
    "\n",
    "           0       0.79      0.92      0.85       960\n",
    "           1       0.83      0.84      0.84       960\n",
    "           2       0.96      0.96      0.96       960\n",
    "           3       0.94      0.97      0.95       960\n",
    "           4       0.82      0.84      0.83       960\n",
    "           5       1.00      1.00      1.00       960\n",
    "           6       0.77      0.88      0.82       960\n",
    "           7       0.85      0.86      0.86       960\n",
    "           8       0.84      0.80      0.82       960\n",
    "           9       0.84      0.85      0.84       960\n",
    "          10       0.94      0.82      0.88       960\n",
    "          11       0.90      0.87      0.88       960\n",
    "          12       0.85      0.84      0.85       960\n",
    "          13       0.88      0.86      0.87       960\n",
    "          14       0.82      0.86      0.84       960\n",
    "          15       0.86      0.85      0.85       960\n",
    "          16       0.90      0.88      0.89       960\n",
    "          17       1.00      1.00      1.00       960\n",
    "          18       0.92      0.86      0.89       960\n",
    "          19       0.91      0.90      0.90       960\n",
    "          20       0.85      0.86      0.85       960\n",
    "          21       0.85      0.90      0.87       960\n",
    "          22       0.88      0.85      0.86       960\n",
    "          23       0.87      0.83      0.85       960\n",
    "          24       0.86      0.86      0.86       960\n",
    "          25       0.90      0.85      0.88       960\n",
    "\n",
    "    accuracy                           0.88     24960\n",
    "   macro avg       0.88      0.88      0.88     24960\n",
    "weighted avg       0.88      0.88      0.88     24960\n",
    "'''"
   ]
  },
  {
   "cell_type": "markdown",
   "id": "b88ef2aa",
   "metadata": {},
   "source": [
    "I tried to use some classic ML models and i got good f1 score with Adaboost model with following params. Classification report attached."
   ]
  },
  {
   "cell_type": "code",
   "execution_count": null,
   "id": "8e1221b5",
   "metadata": {},
   "outputs": [],
   "source": [
    "# With same text preprocessing and Tf-idf vectorization\n",
    "adaboost = MultiOutputClassifier(AdaBoostClassifier(\n",
    "    n_estimators=50,  # Set based on repository recommendations\n",
    "    learning_rate=1.04,  # Set based on repository recommendations\n",
    "    algorithm='SAMME.R',  # Using SAMME.R algorithm as specified\n",
    "    random_state=42  # Ensuring reproducibility\n",
    "))\n"
   ]
  },
  {
   "cell_type": "code",
   "execution_count": null,
   "id": "c35f21ae",
   "metadata": {},
   "outputs": [],
   "source": [
    "'''\n",
    "Classification Report: Adaboost (split was uneven hence some labels are missing)\n",
    "              precision    recall  f1-score   support\n",
    "\n",
    "           0       0.86      0.94      0.90     95792\n",
    "           1       0.94      0.88      0.91      5350\n",
    "           2       0.92      0.97      0.95    115550\n",
    "           3       0.81      0.57      0.67     18354\n",
    "           4       0.84      0.74      0.79     52401\n",
    "           5       0.81      0.88      0.84     80521\n",
    "           6       0.94      0.98      0.96    119782\n",
    "           7       0.79      0.59      0.67     26074\n",
    "           8       0.80      0.59      0.68     25471\n",
    "           9       0.82      0.67      0.74     46424\n",
    "          10       0.88      0.94      0.91    100900\n",
    "          11       0.80      0.58      0.67     12621\n",
    "          12       0.80      0.83      0.81     67727\n",
    "          13       0.81      0.72      0.76     50376\n",
    "          14       0.88      0.94      0.91    100763\n",
    "          15       0.84      0.90      0.87     86880\n",
    "          16       0.78      0.56      0.65     41068\n",
    "          17       0.81      0.85      0.83     74437\n",
    "          18       0.90      0.96      0.93    111675\n",
    "          19       0.86      0.93      0.89     95430\n",
    "          20       0.80      0.62      0.70     38138\n",
    "          21       0.80      0.58      0.67     29155\n",
    "          22       0.72      0.49      0.59      6015\n",
    "          23       0.76      0.56      0.65     27428\n",
    "\n",
    "   micro avg       0.86      0.85      0.85   1428332\n",
    "   macro avg       0.83      0.76      0.79   1428332\n",
    "weighted avg       0.85      0.85      0.85   1428332\n",
    " samples avg       0.86      0.86      0.85   1428332\n",
    "\n",
    " '''"
   ]
  }
 ],
 "metadata": {
  "kernelspec": {
   "display_name": "Python 3",
   "language": "python",
   "name": "python3"
  },
  "language_info": {
   "codemirror_mode": {
    "name": "ipython",
    "version": 3
   },
   "file_extension": ".py",
   "mimetype": "text/x-python",
   "name": "python",
   "nbconvert_exporter": "python",
   "pygments_lexer": "ipython3",
   "version": "3.11.9"
  }
 },
 "nbformat": 4,
 "nbformat_minor": 5
}
